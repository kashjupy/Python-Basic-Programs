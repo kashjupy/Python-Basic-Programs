{
 "cells": [
  {
   "cell_type": "code",
   "execution_count": null,
   "id": "94c60ad2",
   "metadata": {},
   "outputs": [],
   "source": [
    "1>Write a Python program to convert kilometers to miles?"
   ]
  },
  {
   "cell_type": "code",
   "execution_count": 1,
   "id": "51b06065",
   "metadata": {},
   "outputs": [
    {
     "name": "stdout",
     "output_type": "stream",
     "text": [
      "Enter the Kilometers87\n",
      "The miles per given87kilometers is 54.059277\n"
     ]
    }
   ],
   "source": [
    "Km=int(input(\"Enter the Kilometers\"))\n",
    "Miles=int(Km)*0.621371\n",
    "print(\"The miles per given\"+  str(Km)+ \"kilometers is\",Miles)"
   ]
  },
  {
   "cell_type": "code",
   "execution_count": null,
   "id": "5eaaea33",
   "metadata": {},
   "outputs": [],
   "source": [
    "2>Write a Python program to convert Celsius to Fahrenheit?"
   ]
  },
  {
   "cell_type": "code",
   "execution_count": 12,
   "id": "001d30b1",
   "metadata": {},
   "outputs": [
    {
     "name": "stdout",
     "output_type": "stream",
     "text": [
      "Enter the value of the celcius56.8\n",
      "The value of Fahrenheit for given 56.8is 134.24\n"
     ]
    }
   ],
   "source": [
    "celcius=float(input(\"Enter the value of the celcius\"))\n",
    "Fahrenheit=float(celcius)*1.8+32\n",
    "print(\"The value of Fahrenheit for given \"+str(celcius)+\"is\",Fahrenheit)"
   ]
  },
  {
   "cell_type": "code",
   "execution_count": null,
   "id": "6bb24d87",
   "metadata": {},
   "outputs": [],
   "source": [
    "3>Write a Python program to display calendar?"
   ]
  },
  {
   "cell_type": "code",
   "execution_count": 2,
   "id": "3673d7f7",
   "metadata": {},
   "outputs": [
    {
     "name": "stdout",
     "output_type": "stream",
     "text": [
      "2022\n",
      "8\n",
      "    August 2022\n",
      "Mo Tu We Th Fr Sa Su\n",
      " 1  2  3  4  5  6  7\n",
      " 8  9 10 11 12 13 14\n",
      "15 16 17 18 19 20 21\n",
      "22 23 24 25 26 27 28\n",
      "29 30 31\n",
      "\n"
     ]
    }
   ],
   "source": [
    "import calendar\n",
    "year=int(input())\n",
    "month=int(input())\n",
    "print(calendar.month(year,month))\n"
   ]
  },
  {
   "cell_type": "code",
   "execution_count": null,
   "id": "759532fe",
   "metadata": {},
   "outputs": [],
   "source": [
    "4>Write a Python program to solve quadratic equation?"
   ]
  },
  {
   "cell_type": "code",
   "execution_count": 5,
   "id": "521ae9eb",
   "metadata": {},
   "outputs": [
    {
     "name": "stdout",
     "output_type": "stream",
     "text": [
      "Enter the value of a12\n",
      "Enter the value of b2\n",
      "Enter the value of c3\n",
      "The solution are (-0.08333333333333333-0.4930066485916347j) and (-0.08333333333333333+0.4930066485916347j)\n"
     ]
    }
   ],
   "source": [
    "import cmath\n",
    "a=int(input(\"Enter the value of a\"))\n",
    "b=int(input(\"Enter the value of b\"))\n",
    "c=int(input(\"Enter the value of c\"))\n",
    "d=b**2-4*a*c\n",
    "sol1 = (-b-cmath.sqrt(d))/(2*a)\n",
    "sol2 = (-b+cmath.sqrt(d))/(2*a)\n",
    "print('The solution are {0} and {1}'.format(sol1,sol2))"
   ]
  },
  {
   "cell_type": "code",
   "execution_count": null,
   "id": "4e6a970b",
   "metadata": {},
   "outputs": [],
   "source": [
    "5>Write a Python program to swap two variables without temp variable?"
   ]
  },
  {
   "cell_type": "code",
   "execution_count": 6,
   "id": "b8fa30d4",
   "metadata": {},
   "outputs": [
    {
     "name": "stdout",
     "output_type": "stream",
     "text": [
      "1\n",
      "2\n",
      "The value of a is 2\n",
      "The value of the b is 1\n"
     ]
    }
   ],
   "source": [
    "a=int(input())\n",
    "b=int(input())\n",
    "a,b=b,a\n",
    "print(\"The value of a is\",a)\n",
    "print(\"The value of the b is\",b)\n"
   ]
  },
  {
   "cell_type": "code",
   "execution_count": null,
   "id": "92729b14",
   "metadata": {},
   "outputs": [],
   "source": []
  }
 ],
 "metadata": {
  "kernelspec": {
   "display_name": "Python 3 (ipykernel)",
   "language": "python",
   "name": "python3"
  },
  "language_info": {
   "codemirror_mode": {
    "name": "ipython",
    "version": 3
   },
   "file_extension": ".py",
   "mimetype": "text/x-python",
   "name": "python",
   "nbconvert_exporter": "python",
   "pygments_lexer": "ipython3",
   "version": "3.9.7"
  }
 },
 "nbformat": 4,
 "nbformat_minor": 5
}
