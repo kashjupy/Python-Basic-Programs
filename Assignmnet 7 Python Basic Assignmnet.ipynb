{
 "cells": [
  {
   "cell_type": "code",
   "execution_count": null,
   "id": "594aafec",
   "metadata": {},
   "outputs": [],
   "source": [
    "Write a Python Program to find sum of array"
   ]
  },
  {
   "cell_type": "code",
   "execution_count": 3,
   "id": "ca22835f",
   "metadata": {},
   "outputs": [],
   "source": [
    "def _sum(arr):\n",
    "    sum=0\n",
    "    for i in arr:\n",
    "        sum = sum + i\n",
    "    return(sum) \n",
    "  \n",
    "    "
   ]
  },
  {
   "cell_type": "code",
   "execution_count": 4,
   "id": "d78847af",
   "metadata": {},
   "outputs": [
    {
     "data": {
      "text/plain": [
       "10"
      ]
     },
     "execution_count": 4,
     "metadata": {},
     "output_type": "execute_result"
    }
   ],
   "source": [
    "sum([1,2,3,4])"
   ]
  },
  {
   "cell_type": "code",
   "execution_count": null,
   "id": "72e06253",
   "metadata": {},
   "outputs": [],
   "source": [
    "Write a Python Program to find largest element in an array?"
   ]
  },
  {
   "cell_type": "code",
   "execution_count": 45,
   "id": "0747cab7",
   "metadata": {},
   "outputs": [],
   "source": [
    "import numpy as np\n",
    "def lar_ele(l):\n",
    "    c=np.max(l)\n",
    "    return c"
   ]
  },
  {
   "cell_type": "code",
   "execution_count": 52,
   "id": "3e7cc362",
   "metadata": {},
   "outputs": [
    {
     "data": {
      "text/plain": [
       "1151516"
      ]
     },
     "execution_count": 52,
     "metadata": {},
     "output_type": "execute_result"
    }
   ],
   "source": [
    "l=[1000,20000,1151516]\n",
    "lar_ele(l)"
   ]
  },
  {
   "cell_type": "code",
   "execution_count": 15,
   "id": "b0fcbba5",
   "metadata": {},
   "outputs": [],
   "source": [
    "Write a Python Program for array rotation?"
   ]
  },
  {
   "cell_type": "code",
   "execution_count": 82,
   "id": "41c953c7",
   "metadata": {},
   "outputs": [],
   "source": [
    "import numpy as np\n",
    "def rot(l):\n",
    "    b=np.array([[l]])\n",
    "    b=b.reshape(1,-1)\n",
    "    c=b.T\n",
    "    \n",
    "   "
   ]
  },
  {
   "cell_type": "code",
   "execution_count": 83,
   "id": "c3a47261",
   "metadata": {},
   "outputs": [
    {
     "data": {
      "text/plain": [
       "array([[ 1],\n",
       "       [ 2],\n",
       "       [34]])"
      ]
     },
     "execution_count": 83,
     "metadata": {},
     "output_type": "execute_result"
    }
   ],
   "source": [
    "l=[[1,2,34]]\n",
    "rot(l)\n"
   ]
  },
  {
   "cell_type": "code",
   "execution_count": null,
   "id": "cd8a4562",
   "metadata": {},
   "outputs": [],
   "source": [
    "4>Write a Python Program to Split the array and add the first part to the end?"
   ]
  },
  {
   "cell_type": "code",
   "execution_count": 93,
   "id": "6781c821",
   "metadata": {},
   "outputs": [],
   "source": [
    "def split(arr, k):\n",
    "    arr = arr[k:] + arr[:k]\n",
    "    return arr"
   ]
  },
  {
   "cell_type": "code",
   "execution_count": 95,
   "id": "5c8e1116",
   "metadata": {},
   "outputs": [
    {
     "name": "stdout",
     "output_type": "stream",
     "text": [
      "Output array is [5, 17, 10, 13]\n"
     ]
    }
   ],
   "source": [
    "k = 2\n",
    "arr = [10, 13, 5, 17]\n",
    "print(\"Output array is\", split(arr, k))"
   ]
  },
  {
   "cell_type": "code",
   "execution_count": 91,
   "id": "ddef39da",
   "metadata": {},
   "outputs": [
    {
     "name": "stdout",
     "output_type": "stream",
     "text": [
      "Object `Monotonic` not found.\n"
     ]
    }
   ],
   "source": [
    "5>Write a Python Program to check if given array is Monotonic?\n",
    "def isMonotonic(A):\n",
    "      return (all(A[i] <= A[i + 1] for i in range(len(A) - 1)) or\n",
    "            all(A[i] >= A[i + 1] for i in range(len(A) - 1)))"
   ]
  },
  {
   "cell_type": "code",
   "execution_count": 88,
   "id": "095d9a05",
   "metadata": {},
   "outputs": [
    {
     "name": "stdout",
     "output_type": "stream",
     "text": [
      "True\n"
     ]
    }
   ],
   "source": [
    "   A = [6, 5, 4, 4]\n",
    "print(isMonotonic(A))"
   ]
  },
  {
   "cell_type": "code",
   "execution_count": null,
   "id": "6ffb8f19",
   "metadata": {},
   "outputs": [],
   "source": []
  }
 ],
 "metadata": {
  "kernelspec": {
   "display_name": "Python 3 (ipykernel)",
   "language": "python",
   "name": "python3"
  },
  "language_info": {
   "codemirror_mode": {
    "name": "ipython",
    "version": 3
   },
   "file_extension": ".py",
   "mimetype": "text/x-python",
   "name": "python",
   "nbconvert_exporter": "python",
   "pygments_lexer": "ipython3",
   "version": "3.9.7"
  }
 },
 "nbformat": 4,
 "nbformat_minor": 5
}
