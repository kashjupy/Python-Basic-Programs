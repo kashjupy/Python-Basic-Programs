{
 "cells": [
  {
   "cell_type": "code",
   "execution_count": null,
   "id": "642c78bc",
   "metadata": {},
   "outputs": [],
   "source": [
    "1>Write a Python program to print Hello Python?\n",
    "   print('Hello Python')\n",
    "2>Write a Python program to do arithmetical operations addition and division.?\n",
    "  a=int(input(\"Enter the Number\"))\n",
    "  b=int(input(\"Enter the Number\"))\n",
    "##Addition\n",
    "  c=a+b\n",
    "    print(\"The sum of the two numbers is\",c)\n",
    "#Division  \n",
    "div=a/b\n",
    "  print(\"The division of two numbers is\",div)\n",
    "#Multiplication\n",
    "    mul=a*b\n",
    "  print(\"The multiplication value of the a and b is\",mul)\n",
    "3>Write a Python program to find the area of a triangle?\n",
    "  base=int(input(\"Enter the Base value\"))\n",
    "  height=int(input('Enter the value of the height'))\n",
    " Area = 0.5*base*height\n",
    "print(\"The value of the Traingle is\",Area)\n",
    "4>Write a Python program to swap two variables?\n",
    " x=int(input(\"Enter the Value of x\"))\n",
    " y=int(input(\"Enter the valiue of the Y\"))\n",
    "#Temp variable\n",
    " temp=x\n",
    " x=y\n",
    " Y=temp\n",
    " print(\"The value of the x after swaping is\",.format(x))\n",
    " print(\"The value of the Y after the swapping is\",.format(y))\n",
    "5>Write a Python program to generate a random number?\n",
    "    import random\n",
    "    n = random.random()  \n",
    "print(n)  \n",
    "\n",
    "\n",
    "\n",
    "\n",
    "\n",
    "\n",
    "\n",
    "\n",
    "\n",
    "\n",
    "\n",
    "\n",
    "\n",
    "\n",
    "\n",
    "\n",
    "\n",
    "\n",
    "\n",
    "\n",
    "\n",
    "\n",
    "\n",
    "\n",
    ">\n"
   ]
  },
  {
   "cell_type": "code",
   "execution_count": 4,
   "id": "58d0c637",
   "metadata": {},
   "outputs": [
    {
     "name": "stdout",
     "output_type": "stream",
     "text": [
      "0.5878131092882329\n"
     ]
    }
   ],
   "source": [
    " import random\n",
    "n =random.random()  \n",
    " print(n)"
   ]
  },
  {
   "cell_type": "code",
   "execution_count": null,
   "id": "409af3b4",
   "metadata": {},
   "outputs": [],
   "source": []
  }
 ],
 "metadata": {
  "kernelspec": {
   "display_name": "Python 3 (ipykernel)",
   "language": "python",
   "name": "python3"
  },
  "language_info": {
   "codemirror_mode": {
    "name": "ipython",
    "version": 3
   },
   "file_extension": ".py",
   "mimetype": "text/x-python",
   "name": "python",
   "nbconvert_exporter": "python",
   "pygments_lexer": "ipython3",
   "version": "3.9.7"
  }
 },
 "nbformat": 4,
 "nbformat_minor": 5
}
